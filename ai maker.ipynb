{
 "cells": [
  {
   "cell_type": "code",
   "execution_count": null,
   "metadata": {},
   "outputs": [],
   "source": [
    "from __future__ import print_function\n",
    "\n",
    "import MicrophoneStream as MS\n",
    "import ex1_kwstest as kws\n",
    "import ex4_getText2VoiceStream as tts\n",
    "import ex6_queryVoice as dss\n",
    "import time\n",
    "\n",
    "def main():\n",
    "\t#Example8 KWS+STT+DSS\n",
    "\n",
    "\tKWSID = ['기가지니', '지니야', '친구야', '자기야']\n",
    "\twhile 1:\n",
    "\t\trecog=kws.test(KWSID[2])\n",
    "\t\tif recog == 200:\n",
    "\t\t\tprint('KWS Dectected ...\\n')\n",
    "\t\t\tdss_answer = dss.queryByVoice()\n",
    "\t\t\ttts_result = tts.getText2VoiceStream(dss_answer, \"result_mesg.wav\")\n",
    "\t\t\tif dss_answer == '':\n",
    "\t\t\t\tprint('')\n",
    "\t\t\telif tts_result == 500:\n",
    "\t\t\t\tprint(\"TTS 동작 에러입니다.\\n\\n\\n\")\n",
    "\t\t\t\tbreak\n",
    "\t\t\telse:\n",
    "\t\t\t\tMS.play_file(\"result_mesg.wav\")\t\t\t\n",
    "\t\t\ttime.sleep(2)\n",
    "\t\telse:\n",
    "\t\t\tprint('KWS Not Dectected ...')\n",
    "\n",
    "if __name__ == '__main__':\n",
    "    main()"
   ]
  }
 ],
 "metadata": {
  "kernelspec": {
   "display_name": "Python 3",
   "language": "python",
   "name": "python3"
  },
  "language_info": {
   "codemirror_mode": {
    "name": "ipython",
    "version": 3
   },
   "file_extension": ".py",
   "mimetype": "text/x-python",
   "name": "python",
   "nbconvert_exporter": "python",
   "pygments_lexer": "ipython3",
   "version": "3.8.3"
  }
 },
 "nbformat": 4,
 "nbformat_minor": 4
}
